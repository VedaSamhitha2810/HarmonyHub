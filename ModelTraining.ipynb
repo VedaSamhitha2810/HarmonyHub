{
 "cells": [
  {
   "cell_type": "code",
   "execution_count": 3,
   "id": "50ac34ed",
   "metadata": {
    "tags": []
   },
   "outputs": [
    {
     "name": "stdout",
     "output_type": "stream",
     "text": [
      "Intel MKL WARNING: Support of Intel(R) Streaming SIMD Extensions 4.2 (Intel(R) SSE4.2) enabled only processors has been deprecated. Intel oneAPI Math Kernel Library 2025.0 will require Intel(R) Advanced Vector Extensions (Intel(R) AVX) instructions.\n",
      "Intel MKL WARNING: Support of Intel(R) Streaming SIMD Extensions 4.2 (Intel(R) SSE4.2) enabled only processors has been deprecated. Intel oneAPI Math Kernel Library 2025.0 will require Intel(R) Advanced Vector Extensions (Intel(R) AVX) instructions.\n"
     ]
    }
   ],
   "source": [
    "import pandas as pd"
   ]
  },
  {
   "cell_type": "code",
   "execution_count": 1,
   "id": "a8dc045d-0133-4ed6-aea8-99f2b4de47ab",
   "metadata": {
    "tags": []
   },
   "outputs": [
    {
     "name": "stdout",
     "output_type": "stream",
     "text": [
      "/Users/vedasamhithadyawanapally/Documents/GITHUB/Harmony Hub\n"
     ]
    }
   ],
   "source": [
    "cd /Users/vedasamhithadyawanapally/Documents/GITHUB/Harmony Hub"
   ]
  },
  {
   "cell_type": "code",
   "execution_count": 4,
   "id": "8d218487",
   "metadata": {
    "tags": []
   },
   "outputs": [],
   "source": [
    "df = pd.read_csv(\"spotify_millsongdata.csv\")"
   ]
  },
  {
   "cell_type": "markdown",
   "id": "ae8a7760-7dd8-4f40-ae26-cef6b80bd425",
   "metadata": {},
   "source": [
    "Reading the first ten rows of the Dataset "
   ]
  },
  {
   "cell_type": "code",
   "execution_count": 5,
   "id": "79919672",
   "metadata": {
    "tags": []
   },
   "outputs": [
    {
     "data": {
      "text/html": [
       "<div>\n",
       "<style scoped>\n",
       "    .dataframe tbody tr th:only-of-type {\n",
       "        vertical-align: middle;\n",
       "    }\n",
       "\n",
       "    .dataframe tbody tr th {\n",
       "        vertical-align: top;\n",
       "    }\n",
       "\n",
       "    .dataframe thead th {\n",
       "        text-align: right;\n",
       "    }\n",
       "</style>\n",
       "<table border=\"1\" class=\"dataframe\">\n",
       "  <thead>\n",
       "    <tr style=\"text-align: right;\">\n",
       "      <th></th>\n",
       "      <th>artist</th>\n",
       "      <th>song</th>\n",
       "      <th>link</th>\n",
       "      <th>text</th>\n",
       "    </tr>\n",
       "  </thead>\n",
       "  <tbody>\n",
       "    <tr>\n",
       "      <th>0</th>\n",
       "      <td>ABBA</td>\n",
       "      <td>Ahe's My Kind Of Girl</td>\n",
       "      <td>/a/abba/ahes+my+kind+of+girl_20598417.html</td>\n",
       "      <td>Look at her face, it's a wonderful face  \\r\\nA...</td>\n",
       "    </tr>\n",
       "    <tr>\n",
       "      <th>1</th>\n",
       "      <td>ABBA</td>\n",
       "      <td>Andante, Andante</td>\n",
       "      <td>/a/abba/andante+andante_20002708.html</td>\n",
       "      <td>Take it easy with me, please  \\r\\nTouch me gen...</td>\n",
       "    </tr>\n",
       "    <tr>\n",
       "      <th>2</th>\n",
       "      <td>ABBA</td>\n",
       "      <td>As Good As New</td>\n",
       "      <td>/a/abba/as+good+as+new_20003033.html</td>\n",
       "      <td>I'll never know why I had to go  \\r\\nWhy I had...</td>\n",
       "    </tr>\n",
       "    <tr>\n",
       "      <th>3</th>\n",
       "      <td>ABBA</td>\n",
       "      <td>Bang</td>\n",
       "      <td>/a/abba/bang_20598415.html</td>\n",
       "      <td>Making somebody happy is a question of give an...</td>\n",
       "    </tr>\n",
       "    <tr>\n",
       "      <th>4</th>\n",
       "      <td>ABBA</td>\n",
       "      <td>Bang-A-Boomerang</td>\n",
       "      <td>/a/abba/bang+a+boomerang_20002668.html</td>\n",
       "      <td>Making somebody happy is a question of give an...</td>\n",
       "    </tr>\n",
       "    <tr>\n",
       "      <th>5</th>\n",
       "      <td>ABBA</td>\n",
       "      <td>Burning My Bridges</td>\n",
       "      <td>/a/abba/burning+my+bridges_20003011.html</td>\n",
       "      <td>Well, you hoot and you holler and you make me ...</td>\n",
       "    </tr>\n",
       "    <tr>\n",
       "      <th>6</th>\n",
       "      <td>ABBA</td>\n",
       "      <td>Cassandra</td>\n",
       "      <td>/a/abba/cassandra_20002811.html</td>\n",
       "      <td>Down in the street they're all singing and sho...</td>\n",
       "    </tr>\n",
       "    <tr>\n",
       "      <th>7</th>\n",
       "      <td>ABBA</td>\n",
       "      <td>Chiquitita</td>\n",
       "      <td>/a/abba/chiquitita_20002978.html</td>\n",
       "      <td>Chiquitita, tell me what's wrong  \\r\\nYou're e...</td>\n",
       "    </tr>\n",
       "    <tr>\n",
       "      <th>8</th>\n",
       "      <td>ABBA</td>\n",
       "      <td>Crazy World</td>\n",
       "      <td>/a/abba/crazy+world_20003013.html</td>\n",
       "      <td>I was out with the morning sun  \\r\\nCouldn't s...</td>\n",
       "    </tr>\n",
       "    <tr>\n",
       "      <th>9</th>\n",
       "      <td>ABBA</td>\n",
       "      <td>Crying Over You</td>\n",
       "      <td>/a/abba/crying+over+you_20177611.html</td>\n",
       "      <td>I'm waitin' for you baby  \\r\\nI'm sitting all ...</td>\n",
       "    </tr>\n",
       "  </tbody>\n",
       "</table>\n",
       "</div>"
      ],
      "text/plain": [
       "  artist                   song                                        link  \\\n",
       "0   ABBA  Ahe's My Kind Of Girl  /a/abba/ahes+my+kind+of+girl_20598417.html   \n",
       "1   ABBA       Andante, Andante       /a/abba/andante+andante_20002708.html   \n",
       "2   ABBA         As Good As New        /a/abba/as+good+as+new_20003033.html   \n",
       "3   ABBA                   Bang                  /a/abba/bang_20598415.html   \n",
       "4   ABBA       Bang-A-Boomerang      /a/abba/bang+a+boomerang_20002668.html   \n",
       "5   ABBA     Burning My Bridges    /a/abba/burning+my+bridges_20003011.html   \n",
       "6   ABBA              Cassandra             /a/abba/cassandra_20002811.html   \n",
       "7   ABBA             Chiquitita            /a/abba/chiquitita_20002978.html   \n",
       "8   ABBA            Crazy World           /a/abba/crazy+world_20003013.html   \n",
       "9   ABBA        Crying Over You       /a/abba/crying+over+you_20177611.html   \n",
       "\n",
       "                                                text  \n",
       "0  Look at her face, it's a wonderful face  \\r\\nA...  \n",
       "1  Take it easy with me, please  \\r\\nTouch me gen...  \n",
       "2  I'll never know why I had to go  \\r\\nWhy I had...  \n",
       "3  Making somebody happy is a question of give an...  \n",
       "4  Making somebody happy is a question of give an...  \n",
       "5  Well, you hoot and you holler and you make me ...  \n",
       "6  Down in the street they're all singing and sho...  \n",
       "7  Chiquitita, tell me what's wrong  \\r\\nYou're e...  \n",
       "8  I was out with the morning sun  \\r\\nCouldn't s...  \n",
       "9  I'm waitin' for you baby  \\r\\nI'm sitting all ...  "
      ]
     },
     "execution_count": 5,
     "metadata": {},
     "output_type": "execute_result"
    }
   ],
   "source": [
    "df.head(10)"
   ]
  },
  {
   "cell_type": "markdown",
   "id": "b0250af7-c8d7-49ae-8839-5dbd816f2ee4",
   "metadata": {},
   "source": [
    "Representation of the dimensions of the Data Frame"
   ]
  },
  {
   "cell_type": "code",
   "execution_count": 6,
   "id": "d7d8fa2a",
   "metadata": {
    "tags": []
   },
   "outputs": [
    {
     "data": {
      "text/plain": [
       "(57650, 4)"
      ]
     },
     "execution_count": 6,
     "metadata": {},
     "output_type": "execute_result"
    }
   ],
   "source": [
    "df.shape"
   ]
  },
  {
   "cell_type": "markdown",
   "id": "287f1040-d5f9-4b40-bd6b-6db3d0d58d2f",
   "metadata": {},
   "source": [
    "To count the number of missing NULL values in each column of a DataFrame"
   ]
  },
  {
   "cell_type": "code",
   "execution_count": 7,
   "id": "a8fdecf9",
   "metadata": {
    "tags": []
   },
   "outputs": [
    {
     "data": {
      "text/plain": [
       "artist    0\n",
       "song      0\n",
       "link      0\n",
       "text      0\n",
       "dtype: int64"
      ]
     },
     "execution_count": 7,
     "metadata": {},
     "output_type": "execute_result"
    }
   ],
   "source": [
    "df.isnull().sum()"
   ]
  },
  {
   "cell_type": "markdown",
   "id": "6be45850-1dff-4be0-adaa-2fb76f787524",
   "metadata": {},
   "source": [
    "Dropping the link column from the dataframe and resets the index"
   ]
  },
  {
   "cell_type": "code",
   "execution_count": 8,
   "id": "dde3d24b",
   "metadata": {
    "tags": []
   },
   "outputs": [],
   "source": [
    "df =df.sample(5000).drop('link', axis=1).reset_index(drop=True)"
   ]
  },
  {
   "cell_type": "markdown",
   "id": "5f126309-119a-48e0-bf90-d653342e2cbd",
   "metadata": {},
   "source": [
    "Reading the first ten rows of the Dataset again to ensure the Index and whether Link column is dropped or not"
   ]
  },
  {
   "cell_type": "code",
   "execution_count": 9,
   "id": "e66d9385-be00-4021-910a-6b0067079b2e",
   "metadata": {
    "tags": []
   },
   "outputs": [
    {
     "data": {
      "text/html": [
       "<div>\n",
       "<style scoped>\n",
       "    .dataframe tbody tr th:only-of-type {\n",
       "        vertical-align: middle;\n",
       "    }\n",
       "\n",
       "    .dataframe tbody tr th {\n",
       "        vertical-align: top;\n",
       "    }\n",
       "\n",
       "    .dataframe thead th {\n",
       "        text-align: right;\n",
       "    }\n",
       "</style>\n",
       "<table border=\"1\" class=\"dataframe\">\n",
       "  <thead>\n",
       "    <tr style=\"text-align: right;\">\n",
       "      <th></th>\n",
       "      <th>artist</th>\n",
       "      <th>song</th>\n",
       "      <th>text</th>\n",
       "    </tr>\n",
       "  </thead>\n",
       "  <tbody>\n",
       "    <tr>\n",
       "      <th>0</th>\n",
       "      <td>George Strait</td>\n",
       "      <td>Love Without End, Amen</td>\n",
       "      <td>I got sent home from school one day with a shi...</td>\n",
       "    </tr>\n",
       "    <tr>\n",
       "      <th>1</th>\n",
       "      <td>Rolling Stones</td>\n",
       "      <td>Little Red Rooster</td>\n",
       "      <td>I am the little red rooster  \\r\\nToo lazy to c...</td>\n",
       "    </tr>\n",
       "    <tr>\n",
       "      <th>2</th>\n",
       "      <td>Pet Shop Boys</td>\n",
       "      <td>How I Learned To Hate Rock 'n' Roll</td>\n",
       "      <td>Someone states the obvious  \\r\\nSomeone sneers...</td>\n",
       "    </tr>\n",
       "    <tr>\n",
       "      <th>3</th>\n",
       "      <td>Oingo Boingo</td>\n",
       "      <td>Dead Or Alive</td>\n",
       "      <td>There in the shadows, looks like a hand  \\r\\nW...</td>\n",
       "    </tr>\n",
       "    <tr>\n",
       "      <th>4</th>\n",
       "      <td>Natalie Cole</td>\n",
       "      <td>Nature Boy</td>\n",
       "      <td>There was a boy...  \\r\\nA very strange enchant...</td>\n",
       "    </tr>\n",
       "    <tr>\n",
       "      <th>5</th>\n",
       "      <td>Lenny Kravitz</td>\n",
       "      <td>Are You Gonna Go My Way - Live</td>\n",
       "      <td>It ain't over till it's over  \\r\\n  \\r\\nHere w...</td>\n",
       "    </tr>\n",
       "    <tr>\n",
       "      <th>6</th>\n",
       "      <td>Nirvana</td>\n",
       "      <td>Sifting</td>\n",
       "      <td>Afraid to grade  \\r\\nWouldn't it be fun  \\r\\nC...</td>\n",
       "    </tr>\n",
       "    <tr>\n",
       "      <th>7</th>\n",
       "      <td>Ween</td>\n",
       "      <td>Vallejo</td>\n",
       "      <td>Vallejo, Vallejo, Vallejo, Vallejo  \\r\\nVallej...</td>\n",
       "    </tr>\n",
       "    <tr>\n",
       "      <th>8</th>\n",
       "      <td>Iwan Fals</td>\n",
       "      <td>Sudrun</td>\n",
       "      <td>Angin panas otak panas  \\r\\nOrang waras jadi g...</td>\n",
       "    </tr>\n",
       "    <tr>\n",
       "      <th>9</th>\n",
       "      <td>Justin Timberlake</td>\n",
       "      <td>Beach Party</td>\n",
       "      <td>It was a Friday morning, I was really boring  ...</td>\n",
       "    </tr>\n",
       "  </tbody>\n",
       "</table>\n",
       "</div>"
      ],
      "text/plain": [
       "              artist                                 song  \\\n",
       "0      George Strait               Love Without End, Amen   \n",
       "1     Rolling Stones                   Little Red Rooster   \n",
       "2      Pet Shop Boys  How I Learned To Hate Rock 'n' Roll   \n",
       "3       Oingo Boingo                        Dead Or Alive   \n",
       "4       Natalie Cole                           Nature Boy   \n",
       "5      Lenny Kravitz       Are You Gonna Go My Way - Live   \n",
       "6            Nirvana                              Sifting   \n",
       "7               Ween                              Vallejo   \n",
       "8          Iwan Fals                               Sudrun   \n",
       "9  Justin Timberlake                          Beach Party   \n",
       "\n",
       "                                                text  \n",
       "0  I got sent home from school one day with a shi...  \n",
       "1  I am the little red rooster  \\r\\nToo lazy to c...  \n",
       "2  Someone states the obvious  \\r\\nSomeone sneers...  \n",
       "3  There in the shadows, looks like a hand  \\r\\nW...  \n",
       "4  There was a boy...  \\r\\nA very strange enchant...  \n",
       "5  It ain't over till it's over  \\r\\n  \\r\\nHere w...  \n",
       "6  Afraid to grade  \\r\\nWouldn't it be fun  \\r\\nC...  \n",
       "7  Vallejo, Vallejo, Vallejo, Vallejo  \\r\\nVallej...  \n",
       "8  Angin panas otak panas  \\r\\nOrang waras jadi g...  \n",
       "9  It was a Friday morning, I was really boring  ...  "
      ]
     },
     "execution_count": 9,
     "metadata": {},
     "output_type": "execute_result"
    }
   ],
   "source": [
    "df.head(10)"
   ]
  },
  {
   "cell_type": "markdown",
   "id": "7455968a-90f0-4919-9828-67ba242920d0",
   "metadata": {},
   "source": [
    "Checking the Text column for Row 0"
   ]
  },
  {
   "cell_type": "code",
   "execution_count": 10,
   "id": "26eb5b1c",
   "metadata": {
    "tags": []
   },
   "outputs": [
    {
     "data": {
      "text/plain": [
       "\"I got sent home from school one day with a shiner on my eye.  \\r\\nFightin' was against the rules and it didn't matter why.  \\r\\nWhen dad got home I told that story just like I'd rehearsed.  \\r\\nAnd then stood there on those tremblin' knees and waited for the worst.  \\r\\n  \\r\\nChorus:  \\r\\nAnd he said, let me tell you a secret about a father's love,  \\r\\nA secret that my daddy said was just between us.  \\r\\nHe said, daddies don't just love their children every now and then.  \\r\\nIt's a love without end, amen, it's a love without end, amen.  \\r\\n  \\r\\nWhen I became a father in the spring of '81  \\r\\nThere was no doubt that stubborn boy was just like my father's son.  \\r\\nAnd when I thought my patience had been tested to the end,  \\r\\nI took my daddy's secret and I passed it on to him.  \\r\\n  \\r\\nRepeat chorus:  \\r\\n  \\r\\nLast night I dreamed I died and stood outside those pearly gates.  \\r\\nWhen suddenly I realized there must be some mistake.  \\r\\nIf they know half the things I've done, they'll never let me in.  \\r\\nAnd then somewhere from the other side I heard these words again.  \\r\\n  \\r\\nRepeat chorus  \\r\\n\\r\\n\""
      ]
     },
     "execution_count": 10,
     "metadata": {},
     "output_type": "execute_result"
    }
   ],
   "source": [
    "df['text'][0]"
   ]
  },
  {
   "cell_type": "markdown",
   "id": "8b70c61b-752f-4545-aa3a-0dd4c08a385a",
   "metadata": {},
   "source": [
    "Representation of the dimensions of the Data Frame"
   ]
  },
  {
   "cell_type": "code",
   "execution_count": 11,
   "id": "4a0c4186",
   "metadata": {
    "tags": []
   },
   "outputs": [
    {
     "data": {
      "text/plain": [
       "(5000, 3)"
      ]
     },
     "execution_count": 11,
     "metadata": {},
     "output_type": "execute_result"
    }
   ],
   "source": [
    "df.shape"
   ]
  },
  {
   "cell_type": "markdown",
   "id": "865afecc",
   "metadata": {},
   "source": [
    "Text Cleaning/ Text Preprocessing"
   ]
  },
  {
   "cell_type": "markdown",
   "id": "46da4a74-6a2b-402b-9388-790fd7e28463",
   "metadata": {},
   "source": [
    "1.Converting all the text letters in the Text Column to Lowercase\n",
    "\n",
    "2.Removing the unwanted spaces and newline characters"
   ]
  },
  {
   "cell_type": "code",
   "execution_count": 12,
   "id": "b2359525",
   "metadata": {
    "tags": []
   },
   "outputs": [],
   "source": [
    "df['text'] = df['text'].str.lower().replace(r'^\\w\\s', ' ').replace(r'\\n', ' ', regex = True)"
   ]
  },
  {
   "cell_type": "markdown",
   "id": "b59007f6-cd3a-47ae-9b02-d7c76b144361",
   "metadata": {},
   "source": [
    "Checking the Text column for Row 0"
   ]
  },
  {
   "cell_type": "code",
   "execution_count": 13,
   "id": "ec4259e4-8c30-4713-aa1f-a4b6dc3fabcd",
   "metadata": {
    "tags": []
   },
   "outputs": [
    {
     "data": {
      "text/plain": [
       "\"i got sent home from school one day with a shiner on my eye.  \\r fightin' was against the rules and it didn't matter why.  \\r when dad got home i told that story just like i'd rehearsed.  \\r and then stood there on those tremblin' knees and waited for the worst.  \\r   \\r chorus:  \\r and he said, let me tell you a secret about a father's love,  \\r a secret that my daddy said was just between us.  \\r he said, daddies don't just love their children every now and then.  \\r it's a love without end, amen, it's a love without end, amen.  \\r   \\r when i became a father in the spring of '81  \\r there was no doubt that stubborn boy was just like my father's son.  \\r and when i thought my patience had been tested to the end,  \\r i took my daddy's secret and i passed it on to him.  \\r   \\r repeat chorus:  \\r   \\r last night i dreamed i died and stood outside those pearly gates.  \\r when suddenly i realized there must be some mistake.  \\r if they know half the things i've done, they'll never let me in.  \\r and then somewhere from the other side i heard these words again.  \\r   \\r repeat chorus  \\r \\r \""
      ]
     },
     "execution_count": 13,
     "metadata": {},
     "output_type": "execute_result"
    }
   ],
   "source": [
    "df['text'][0]"
   ]
  },
  {
   "cell_type": "markdown",
   "id": "9bdb3e3a-8bf8-49d8-a6f3-1c0691c40d9b",
   "metadata": {},
   "source": [
    "Importing NLTK Library for natural language processing tasks\n",
    "\n",
    "Porter Stemmer : Reduces words to their root or base form\n",
    "\n",
    "word_tokenize function from nltk to tokenize the input text into a list of words."
   ]
  },
  {
   "cell_type": "code",
   "execution_count": 14,
   "id": "7e78451e",
   "metadata": {
    "tags": []
   },
   "outputs": [],
   "source": [
    "import nltk\n",
    "from nltk.stem.porter import PorterStemmer\n",
    "stemmer = PorterStemmer()\n",
    "\n",
    "def tokenization(txt):\n",
    "    tokens = nltk.word_tokenize(txt)\n",
    "    stemming = [stemmer.stem(w) for w in tokens]\n",
    "    return \" \".join(stemming)"
   ]
  },
  {
   "cell_type": "code",
   "execution_count": 15,
   "id": "f5c1ece2",
   "metadata": {
    "tags": []
   },
   "outputs": [],
   "source": [
    "df['text'] = df['text'].apply(lambda x: tokenization(x))"
   ]
  },
  {
   "cell_type": "markdown",
   "id": "ca973f0c-8c37-4e0c-8bfe-ab6a923f0140",
   "metadata": {},
   "source": [
    "Checking the Row 2 in text column to check whether tokenization and stemming is successfully done or not"
   ]
  },
  {
   "cell_type": "code",
   "execution_count": 16,
   "id": "9ac9b38a-ed34-444b-8643-401de9a89a5f",
   "metadata": {
    "tags": []
   },
   "outputs": [
    {
     "data": {
      "text/plain": [
       "\"someon state the obviou someon sneer at all you love someon preach ugli manner exclud some , includ me thi is how i learn to hate rock 'n ' roll thi is how i learn to hate rock 'n ' roll all feel blunt , all passion spent everybodi doe what everybodi doe all the broken promis to recreat a statu quo thi is how i learn to hate rock 'n ' roll thi is how i learn to hate rock 'n ' roll\""
      ]
     },
     "execution_count": 16,
     "metadata": {},
     "output_type": "execute_result"
    }
   ],
   "source": [
    "df['text'][2]"
   ]
  },
  {
   "cell_type": "code",
   "execution_count": 19,
   "id": "95fc3be2",
   "metadata": {
    "tags": []
   },
   "outputs": [],
   "source": [
    "from sklearn.feature_extraction.text import TfidfVectorizer\n",
    "from sklearn.metrics.pairwise import cosine_similarity"
   ]
  },
  {
   "cell_type": "markdown",
   "id": "be812882-9157-44de-ac3b-6fcc239e39fc",
   "metadata": {},
   "source": [
    "TfidfVectorizer is a class in scikit-learn that transforms a collection of raw documents into a matrix of TF-IDF features \n",
    "and this TF-IDF will determine the importance of a word in a document relative to a collection of documents.\n",
    "Cosine Similarity computes the similarity between two vectors and removing common English stop words from the text in the below code."
   ]
  },
  {
   "cell_type": "code",
   "execution_count": 20,
   "id": "f4945e8f",
   "metadata": {
    "tags": []
   },
   "outputs": [],
   "source": [
    "tfidvector = TfidfVectorizer(analyzer='word',stop_words='english')\n",
    "matrix = tfidvector.fit_transform(df['text'])\n",
    "similarity = cosine_similarity(matrix)"
   ]
  },
  {
   "cell_type": "code",
   "execution_count": 21,
   "id": "c1794772",
   "metadata": {
    "tags": []
   },
   "outputs": [
    {
     "data": {
      "text/plain": [
       "array([1.        , 0.01506262, 0.00542657, ..., 0.03188999, 0.09965215,\n",
       "       0.08978372])"
      ]
     },
     "execution_count": 21,
     "metadata": {},
     "output_type": "execute_result"
    }
   ],
   "source": [
    "similarity[0]"
   ]
  },
  {
   "cell_type": "code",
   "execution_count": 23,
   "id": "a6221770",
   "metadata": {
    "tags": []
   },
   "outputs": [
    {
     "data": {
      "text/html": [
       "<div>\n",
       "<style scoped>\n",
       "    .dataframe tbody tr th:only-of-type {\n",
       "        vertical-align: middle;\n",
       "    }\n",
       "\n",
       "    .dataframe tbody tr th {\n",
       "        vertical-align: top;\n",
       "    }\n",
       "\n",
       "    .dataframe thead th {\n",
       "        text-align: right;\n",
       "    }\n",
       "</style>\n",
       "<table border=\"1\" class=\"dataframe\">\n",
       "  <thead>\n",
       "    <tr style=\"text-align: right;\">\n",
       "      <th></th>\n",
       "      <th>artist</th>\n",
       "      <th>song</th>\n",
       "      <th>text</th>\n",
       "    </tr>\n",
       "  </thead>\n",
       "  <tbody>\n",
       "    <tr>\n",
       "      <th>4</th>\n",
       "      <td>Natalie Cole</td>\n",
       "      <td>Nature Boy</td>\n",
       "      <td>there wa a boy ... a veri strang enchant boy t...</td>\n",
       "    </tr>\n",
       "  </tbody>\n",
       "</table>\n",
       "</div>"
      ],
      "text/plain": [
       "         artist        song                                               text\n",
       "4  Natalie Cole  Nature Boy  there wa a boy ... a veri strang enchant boy t..."
      ]
     },
     "execution_count": 23,
     "metadata": {},
     "output_type": "execute_result"
    }
   ],
   "source": [
    "df[df['song'] == 'Nature Boy']"
   ]
  },
  {
   "cell_type": "markdown",
   "id": "4df3e80e-381b-4bdb-9d8e-cfb39dae2237",
   "metadata": {},
   "source": [
    "Picking up the top 10 songs which has the same similarity scores and then put them in the distances list and then placing them in the output based on their index in the sorted list"
   ]
  },
  {
   "cell_type": "code",
   "execution_count": 24,
   "id": "5aaa2361",
   "metadata": {
    "tags": []
   },
   "outputs": [],
   "source": [
    "def recommendation(song_df):\n",
    "    idx = df[df['song'] == song_df].index[0]\n",
    "    distances = sorted(list(enumerate(similarity[idx])),reverse=True,key=lambda x:x[1])\n",
    "    \n",
    "    songs = []\n",
    "    for m_id in distances[1:11]:\n",
    "        songs.append(df.iloc[m_id[0]].song)\n",
    "        \n",
    "    return songs"
   ]
  },
  {
   "cell_type": "code",
   "execution_count": 25,
   "id": "216c25bb",
   "metadata": {
    "tags": []
   },
   "outputs": [
    {
     "data": {
      "text/plain": [
       "['Fall Together',\n",
       " 'A Fool Never Learns',\n",
       " 'Good Sign',\n",
       " 'It Was A Very Good Year',\n",
       " 'The Very Thought Of You',\n",
       " 'I Love The Little Things',\n",
       " 'That Boy Could Dance',\n",
       " 'Learn To Love',\n",
       " 'From The Bottom Of My Broken Heart',\n",
       " \"It's A Love Thing\"]"
      ]
     },
     "execution_count": 25,
     "metadata": {},
     "output_type": "execute_result"
    }
   ],
   "source": [
    "recommendation('Nature Boy')"
   ]
  },
  {
   "cell_type": "markdown",
   "id": "4749684a-ca45-4d60-afc7-95b5d79b774f",
   "metadata": {},
   "source": [
    "Two binary files ('similaritybinaryfile.pkl' and 'dataframebinaryfile.pkl') that store the serialized versions of the similarity matrix and DataFrame, respectively."
   ]
  },
  {
   "cell_type": "code",
   "execution_count": 26,
   "id": "18192437",
   "metadata": {
    "tags": []
   },
   "outputs": [],
   "source": [
    "import pickle\n",
    "pickle.dump(similarity,open('similaritybinaryfile.pkl','wb'))\n",
    "pickle.dump(df,open('dataframebinaryfile.pkl','wb'))"
   ]
  },
  {
   "cell_type": "code",
   "execution_count": null,
   "id": "e7edcf20",
   "metadata": {},
   "outputs": [],
   "source": []
  }
 ],
 "metadata": {
  "kernelspec": {
   "display_name": "Python 3 (ipykernel)",
   "language": "python",
   "name": "python3"
  },
  "language_info": {
   "codemirror_mode": {
    "name": "ipython",
    "version": 3
   },
   "file_extension": ".py",
   "mimetype": "text/x-python",
   "name": "python",
   "nbconvert_exporter": "python",
   "pygments_lexer": "ipython3",
   "version": "3.9.18"
  }
 },
 "nbformat": 4,
 "nbformat_minor": 5
}
